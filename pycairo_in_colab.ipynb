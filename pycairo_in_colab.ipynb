{
  "nbformat": 4,
  "nbformat_minor": 0,
  "metadata": {
    "colab": {
      "name": "pycairo_in_colab.ipynb",
      "version": "0.3.2",
      "provenance": [],
      "include_colab_link": true
    },
    "kernelspec": {
      "name": "python3",
      "display_name": "Python 3"
    }
  },
  "cells": [
    {
      "cell_type": "markdown",
      "metadata": {
        "id": "view-in-github",
        "colab_type": "text"
      },
      "source": [
        "[View in Colaboratory](https://colab.research.google.com/github/nickwan/pycairo_in_colab/blob/master/pycairo_in_colab.ipynb)"
      ]
    },
    {
      "metadata": {
        "id": "YlIxbUqpcEdl",
        "colab_type": "code",
        "colab": {
          "base_uri": "https://localhost:8080/",
          "height": 153
        },
        "outputId": "201a1069-0a41-418e-c2f2-601f8e3cf72d"
      },
      "cell_type": "code",
      "source": [
        "!apt-get install libcairo2-dev libjpeg-dev libgif-dev\n",
        "!pip install pycairo"
      ],
      "execution_count": 1,
      "outputs": [
        {
          "output_type": "stream",
          "text": [
            "Reading package lists... Done\n",
            "Building dependency tree       \n",
            "Reading state information... Done\n",
            "libcairo2-dev is already the newest version (1.15.10-2).\n",
            "libgif-dev is already the newest version (5.1.4-2).\n",
            "libjpeg-dev is already the newest version (8c-2ubuntu8).\n",
            "0 upgraded, 0 newly installed, 0 to remove and 4 not upgraded.\n",
            "Requirement already satisfied: pycairo in /usr/local/lib/python3.6/dist-packages (1.17.1)\n"
          ],
          "name": "stdout"
        }
      ]
    },
    {
      "metadata": {
        "id": "Gr-bAca8evaX",
        "colab_type": "code",
        "colab": {}
      },
      "cell_type": "code",
      "source": [
        "import cairo\n",
        "from google.colab import files\n",
        "from IPython.display import SVG, display, Image"
      ],
      "execution_count": 0,
      "outputs": []
    },
    {
      "metadata": {
        "id": "jg-1wizQgF9S",
        "colab_type": "code",
        "colab": {}
      },
      "cell_type": "code",
      "source": [
        "def show_svg(file):\n",
        "    display(SVG(filename=file))"
      ],
      "execution_count": 0,
      "outputs": []
    },
    {
      "metadata": {
        "id": "vfvP0qdqfEIO",
        "colab_type": "code",
        "colab": {
          "base_uri": "https://localhost:8080/",
          "height": 288
        },
        "outputId": "d0265492-0f83-45b6-e896-0f17d4f1bb7d"
      },
      "cell_type": "code",
      "source": [
        "with cairo.SVGSurface(\"example.svg\", 200, 200) as surface:\n",
        "    context = cairo.Context(surface)\n",
        "    x, y, x1, y1 = 0.1, 0.5, 0.4, 0.9\n",
        "    x2, y2, x3, y3 = 0.6, 0.1, 0.9, 0.5\n",
        "    context.scale(200, 200)\n",
        "    context.set_line_width(0.04)\n",
        "    context.move_to(x, y)\n",
        "    context.curve_to(x1, y1, x2, y2, x3, y3)\n",
        "    context.stroke()\n",
        "    context.set_source_rgba(1, 0.2, 0.2, 0.6)\n",
        "    context.set_line_width(0.02)\n",
        "    context.move_to(x, y)\n",
        "    context.line_to(x1, y1)\n",
        "    context.move_to(x2, y2)\n",
        "    context.line_to(x3, y3)\n",
        "    context.stroke()\n",
        "    \n",
        "show_svg(\"example.svg\")"
      ],
      "execution_count": 4,
      "outputs": [
        {
          "output_type": "display_data",
          "data": {
            "text/plain": [
              "<IPython.core.display.SVG object>"
            ],
            "image/svg+xml": "<svg height=\"200pt\" version=\"1.1\" viewBox=\"0 0 200 200\" width=\"200pt\" xmlns=\"http://www.w3.org/2000/svg\" xmlns:xlink=\"http://www.w3.org/1999/xlink\">\n<g id=\"surface1\">\n<path d=\"M 0.1 0.5 C 0.4 0.9 0.6 0.1 0.9 0.5 \" style=\"fill:none;stroke-width:0.04;stroke-linecap:butt;stroke-linejoin:miter;stroke:rgb(0%,0%,0%);stroke-opacity:1;stroke-miterlimit:10;\" transform=\"matrix(200,0,0,200,0,0)\"/>\n<path d=\"M 0.1 0.5 L 0.4 0.9 M 0.6 0.1 L 0.9 0.5 \" style=\"fill:none;stroke-width:0.02;stroke-linecap:butt;stroke-linejoin:miter;stroke:rgb(100%,20%,20%);stroke-opacity:0.6;stroke-miterlimit:10;\" transform=\"matrix(200,0,0,200,0,0)\"/>\n</g>\n</svg>"
          },
          "metadata": {
            "tags": []
          }
        }
      ]
    }
  ]
}